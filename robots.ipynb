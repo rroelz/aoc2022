{
 "cells": [
  {
   "cell_type": "code",
   "execution_count": 21,
   "id": "693fb8f7-57a5-4aeb-84e5-47d3c8970bc0",
   "metadata": {},
   "outputs": [
    {
     "data": {
      "text/plain": [
       "30-element Vector{String}:\n",
       " \"Blueprint 1: Each ore robot cos\" ⋯ 98 bytes ⋯ \"ot costs 4 ore and 19 obsidian.\"\n",
       " \"Blueprint 2: Each ore robot cos\" ⋯ 97 bytes ⋯ \"bot costs 2 ore and 7 obsidian.\"\n",
       " \"Blueprint 3: Each ore robot cos\" ⋯ 98 bytes ⋯ \"ot costs 3 ore and 12 obsidian.\"\n",
       " \"Blueprint 4: Each ore robot cos\" ⋯ 98 bytes ⋯ \"ot costs 2 ore and 19 obsidian.\"\n",
       " \"Blueprint 5: Each ore robot cos\" ⋯ 98 bytes ⋯ \"ot costs 4 ore and 13 obsidian.\"\n",
       " \"Blueprint 6: Each ore robot cos\" ⋯ 97 bytes ⋯ \"ot costs 4 ore and 11 obsidian.\"\n",
       " \"Blueprint 7: Each ore robot cos\" ⋯ 98 bytes ⋯ \"ot costs 4 ore and 17 obsidian.\"\n",
       " \"Blueprint 8: Each ore robot cos\" ⋯ 97 bytes ⋯ \"bot costs 3 ore and 7 obsidian.\"\n",
       " \"Blueprint 9: Each ore robot cos\" ⋯ 98 bytes ⋯ \"ot costs 3 ore and 15 obsidian.\"\n",
       " \"Blueprint 10: Each ore robot co\" ⋯ 99 bytes ⋯ \"ot costs 4 ore and 11 obsidian.\"\n",
       " ⋮\n",
       " \"Blueprint 22: Each ore robot co\" ⋯ 99 bytes ⋯ \"ot costs 4 ore and 16 obsidian.\"\n",
       " \"Blueprint 23: Each ore robot co\" ⋯ 99 bytes ⋯ \"ot costs 4 ore and 11 obsidian.\"\n",
       " \"Blueprint 24: Each ore robot co\" ⋯ 98 bytes ⋯ \"bot costs 4 ore and 9 obsidian.\"\n",
       " \"Blueprint 25: Each ore robot co\" ⋯ 99 bytes ⋯ \"ot costs 3 ore and 16 obsidian.\"\n",
       " \"Blueprint 26: Each ore robot co\" ⋯ 98 bytes ⋯ \"bot costs 4 ore and 7 obsidian.\"\n",
       " \"Blueprint 27: Each ore robot co\" ⋯ 98 bytes ⋯ \"ot costs 2 ore and 14 obsidian.\"\n",
       " \"Blueprint 28: Each ore robot co\" ⋯ 99 bytes ⋯ \"ot costs 3 ore and 14 obsidian.\"\n",
       " \"Blueprint 29: Each ore robot co\" ⋯ 98 bytes ⋯ \"bot costs 4 ore and 8 obsidian.\"\n",
       " \"Blueprint 30: Each ore robot co\" ⋯ 99 bytes ⋯ \"ot costs 3 ore and 13 obsidian.\""
      ]
     },
     "metadata": {},
     "output_type": "display_data"
    }
   ],
   "source": [
    "input = readlines(\"data/19-input.txt\")"
   ]
  },
  {
   "cell_type": "code",
   "execution_count": 22,
   "id": "5ad8a28a-1a7c-4fff-9006-beaabd6d8566",
   "metadata": {},
   "outputs": [
    {
     "data": {
      "text/plain": [
       "\"Blueprint 1: Each ore robot costs 4 ore. Each clay robot costs 4 ore. Each obsidian robot costs 4 ore and 12 clay. Each geode robot costs 4 ore and 19 obsidian.\""
      ]
     },
     "metadata": {},
     "output_type": "display_data"
    }
   ],
   "source": [
    "test_data = input[1]"
   ]
  },
  {
   "cell_type": "code",
   "execution_count": 23,
   "id": "8c04a412-8d72-4774-a7fe-59e840a2bb39",
   "metadata": {},
   "outputs": [
    {
     "data": {
      "text/plain": [
       "32-element Vector{SubString{String}}:\n",
       " \"Blueprint\"\n",
       " \"1:\"\n",
       " \"Each\"\n",
       " \"ore\"\n",
       " \"robot\"\n",
       " \"costs\"\n",
       " \"4\"\n",
       " \"ore.\"\n",
       " \"Each\"\n",
       " \"clay\"\n",
       " ⋮\n",
       " \"Each\"\n",
       " \"geode\"\n",
       " \"robot\"\n",
       " \"costs\"\n",
       " \"4\"\n",
       " \"ore\"\n",
       " \"and\"\n",
       " \"19\"\n",
       " \"obsidian.\""
      ]
     },
     "metadata": {},
     "output_type": "display_data"
    }
   ],
   "source": [
    "spliti = split(test_data, \" \", )"
   ]
  },
  {
   "cell_type": "code",
   "execution_count": 24,
   "id": "3d87bbf9-a879-40df-942f-3804c7643862",
   "metadata": {},
   "outputs": [
    {
     "data": {
      "text/plain": [
       "2-element Vector{SubString{String}}:\n",
       " \"Each\"\n",
       " \"4\""
      ]
     },
     "metadata": {},
     "output_type": "display_data"
    }
   ],
   "source": [
    "spliti[[3,13]]"
   ]
  },
  {
   "cell_type": "code",
   "execution_count": 25,
   "id": "5c28289a-94dc-43ec-b4b7-bcd1fbd8d3f2",
   "metadata": {},
   "outputs": [
    {
     "name": "stdout",
     "output_type": "stream",
     "text": [
      "1 Blueprint\n",
      "2 1:\n",
      "3 Each\n",
      "4 ore\n",
      "5 robot\n",
      "6 costs\n",
      "7 4\n",
      "8 ore.\n",
      "9 Each\n",
      "10 clay\n",
      "11 robot\n",
      "12 costs\n",
      "13 4\n",
      "14 ore.\n",
      "15 Each\n",
      "16 obsidian\n",
      "17 robot\n",
      "18 costs\n",
      "19 4\n",
      "20 ore\n",
      "21 and\n",
      "22 12\n",
      "23 clay.\n",
      "24 Each\n",
      "25 geode\n",
      "26 robot\n",
      "27 costs\n",
      "28 4\n",
      "29 ore\n",
      "30 and\n",
      "31 19\n",
      "32 obsidian.\n"
     ]
    }
   ],
   "source": [
    "for (i,x) in enumerate(spliti) \n",
    "    println(i,\" \",x)\n",
    "end"
   ]
  },
  {
   "cell_type": "code",
   "execution_count": 26,
   "id": "4435acad-666b-4dd4-871b-ae9b7fd60253",
   "metadata": {},
   "outputs": [
    {
     "data": {
      "text/plain": [
       "get_costs (generic function with 1 method)"
      ]
     },
     "metadata": {},
     "output_type": "display_data"
    }
   ],
   "source": [
    "function get_costs(line)\n",
    "    spliti = split(line,\" \")\n",
    "    #ore-ore, ore-clay, ore-obsidian, clay-obsidian, ore-geode, obsidian-geode\n",
    "    return parse.(Int,spliti[[7,13,19,22,28,31]])\n",
    "end\n",
    "    "
   ]
  },
  {
   "cell_type": "code",
   "execution_count": null,
   "id": "97a73158-0f00-48a4-b8cc-c8408787b1a2",
   "metadata": {},
   "outputs": [],
   "source": [
    "costs = get_costs(input[1])"
   ]
  },
  {
   "cell_type": "code",
   "execution_count": null,
   "id": "790ffc6a-9551-4068-8598-b1d8eb37c321",
   "metadata": {},
   "outputs": [],
   "source": [
    "blueprints = get_costs.(input)"
   ]
  },
  {
   "cell_type": "code",
   "execution_count": null,
   "id": "cb51e902-36e2-4b44-b3e5-5137ecb2d9cc",
   "metadata": {},
   "outputs": [],
   "source": [
    "function solve_everything(costs)\n",
    "    # ore, clay,obsidian, geode, ore_r, caly_r, obsidian_r, geode_r, time\n",
    "    states = Set([[0,0,0,0,1,0,0,0]])\n",
    "    #ore-ore, ore-clay, ore-obsidian, clay-obsidian, ore-geode, obsidian-geode\n",
    "    for t in 1:24\n",
    "        states = get_new_states(states, costs)\n",
    "        println(\"Finished step $t at length \", length(states))\n",
    "    end\n",
    "    #get_max_geode(states)\n",
    "    return maximum([x[4] for x in result])\n",
    "end"
   ]
  },
  {
   "cell_type": "code",
   "execution_count": null,
   "id": "63e4eac4-3e98-4605-88de-70fa1fe7cbcb",
   "metadata": {},
   "outputs": [],
   "source": [
    "function get_new_states(states, costs)\n",
    "    new_states = Set{Vector{Int}}()\n",
    "    for state in states\n",
    "        c = child_states(state, costs) \n",
    "        for s in c\n",
    "            push!(new_states, s)\n",
    "        end\n",
    "    end\n",
    "    return new_states\n",
    "end"
   ]
  },
  {
   "cell_type": "code",
   "execution_count": null,
   "id": "701f85fa-8618-47b7-b780-788bf841445e",
   "metadata": {},
   "outputs": [],
   "source": [
    "function child_states(state::Vector{Int}, costs)\n",
    "    new_resource = new_resources(state)\n",
    "    children = [new_resource]\n",
    "    if state[1] >= costs[1]\n",
    "        push!(children, new_resource+[-costs[1], 0, 0, 0, 1, 0, 0, 0])\n",
    "    end\n",
    "    if state[1] >= costs[2]\n",
    "        push!(children, new_resource+[-costs[2], 0, 0, 0, 0, 1, 0, 0])\n",
    "    end\n",
    "    if state[1] >= costs[3] && state[2] >= costs[4]\n",
    "        push!(children, new_resource+[-costs[3], -costs[4], 0, 0, 0, 0, 1, 0])\n",
    "    end\n",
    "    if state[1] >= costs[5] && state[3] >= costs[6]\n",
    "        push!(children, new_resource+[-costs[5], 0, -costs[6], 0, 0, 0, 0, 1])\n",
    "    end\n",
    "    return children\n",
    "end"
   ]
  },
  {
   "cell_type": "code",
   "execution_count": null,
   "id": "9bf80ffb-057d-4c67-9be1-9a3c05bb84ca",
   "metadata": {},
   "outputs": [],
   "source": [
    "function new_resources(state)\n",
    "    return state.+[state[5:end]..., 0,0,0,0]\n",
    "end"
   ]
  },
  {
   "cell_type": "code",
   "execution_count": null,
   "id": "057fa1ef-a8e2-4291-a053-f06c86836aea",
   "metadata": {},
   "outputs": [],
   "source": [
    "child_states([4,4,4,4,2,2,2,2], costs)"
   ]
  },
  {
   "cell_type": "code",
   "execution_count": null,
   "id": "46d23da6-e65a-4b64-abfd-2501967e2db5",
   "metadata": {},
   "outputs": [],
   "source": [
    "get_new_states(Set([[10,20,0,0,1,0,0,1]]), costs)"
   ]
  },
  {
   "cell_type": "code",
   "execution_count": null,
   "id": "c0e3a769-264c-4c70-8ee4-b742c52783b0",
   "metadata": {},
   "outputs": [],
   "source": [
    "result = solve_everything(costs)"
   ]
  },
  {
   "cell_type": "code",
   "execution_count": null,
   "id": "422883a2-bc4c-4f36-9c7e-12088c1de2f2",
   "metadata": {},
   "outputs": [],
   "source": [
    "maximum([x[4] for x in result])"
   ]
  },
  {
   "cell_type": "code",
   "execution_count": null,
   "id": "65dc8397-b8a8-4a09-8c4c-0ed32bb2f003",
   "metadata": {},
   "outputs": [],
   "source": [
    "vals = zeros(length(blueprints))\n",
    "Threads.@threads for i in 1:length(blueprints)\n",
    "        vals[i] = i*solve_everything(blueprints[i])\n",
    "end"
   ]
  },
  {
   "cell_type": "code",
   "execution_count": null,
   "id": "add05de1-e7fb-4b80-8a66-4dd57bfa043e",
   "metadata": {},
   "outputs": [],
   "source": [
    "sum(vals)"
   ]
  },
  {
   "cell_type": "code",
   "execution_count": null,
   "id": "26e52cd4-c773-4575-aa29-bdbb28c76613",
   "metadata": {},
   "outputs": [],
   "source": [
    "length(costs)"
   ]
  },
  {
   "cell_type": "code",
   "execution_count": null,
   "id": "bbe827da-1ef7-4a0b-9279-5cec7a20fbd0",
   "metadata": {},
   "outputs": [],
   "source": []
  }
 ],
 "metadata": {
  "kernelspec": {
   "display_name": "Julia 1.8.3",
   "language": "julia",
   "name": "julia-1.8"
  },
  "language_info": {
   "file_extension": ".jl",
   "mimetype": "application/julia",
   "name": "julia",
   "version": "1.8.3"
  }
 },
 "nbformat": 4,
 "nbformat_minor": 5
}
